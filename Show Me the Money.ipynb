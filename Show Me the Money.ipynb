{
 "cells": [
  {
   "cell_type": "code",
   "execution_count": 1,
   "id": "a74a4fa6",
   "metadata": {},
   "outputs": [],
   "source": [
    "#Write code that asks a user to input a monetary value (USD). \n",
    "#You can assume the user will input an integer or float with no special characters. \n",
    "#Return a print statement using string formatting that states the value converted to Euros (EUR), Japanese Yen (JPY), and Mexican Pesos (MXN). "
   ]
  },
  {
   "cell_type": "code",
   "execution_count": 9,
   "id": "70e7c5a0",
   "metadata": {},
   "outputs": [
    {
     "name": "stdout",
     "output_type": "stream",
     "text": [
      "Enter amount in USD:$157\n",
      "157.0 USD = 146.01 EUR = 23798.06 JPY = 2763.2 MXN\n"
     ]
    }
   ],
   "source": [
    "user = float(input('Enter amount in USD:$'))\n",
    "\n",
    "EUR = user*0.93\n",
    "JPY = user*151.58\n",
    "MXN = user*17.60\n",
    "\n",
    "print('{} USD = {} EUR = {} JPY = {} MXN'.format(user,round(EUR,2),round(JPY,2),round(MXN,2)))\n"
   ]
  },
  {
   "cell_type": "code",
   "execution_count": null,
   "id": "29b03ce7",
   "metadata": {},
   "outputs": [],
   "source": []
  }
 ],
 "metadata": {
  "kernelspec": {
   "display_name": "Python 3 (ipykernel)",
   "language": "python",
   "name": "python3"
  },
  "language_info": {
   "codemirror_mode": {
    "name": "ipython",
    "version": 3
   },
   "file_extension": ".py",
   "mimetype": "text/x-python",
   "name": "python",
   "nbconvert_exporter": "python",
   "pygments_lexer": "ipython3",
   "version": "3.11.4"
  }
 },
 "nbformat": 4,
 "nbformat_minor": 5
}
