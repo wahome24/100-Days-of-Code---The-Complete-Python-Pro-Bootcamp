{
 "cells": [
  {
   "cell_type": "code",
   "execution_count": 4,
   "id": "e4b92839",
   "metadata": {},
   "outputs": [
    {
     "name": "stdout",
     "output_type": "stream",
     "text": [
      "Welcome to Treasure Island\n",
      "\n",
      "Your mission is to find the treasure!\n",
      "\n",
      "You're at a cross road, Where do you want to go? left or right? left\n",
      "\n",
      "You are now at a lake and there is an island at the middle of the lake. What do you do?, swim or wait for a boat?\n",
      " wait\n",
      "You get to the island, there are three doors blue, red and yellow, which one do you enter?\n",
      " yellow\n",
      "Congratulations! the treasure is all yours.\n"
     ]
    }
   ],
   "source": [
    "#Treasure island\n",
    "\n",
    "print('Welcome to Treasure Island')\n",
    "print()\n",
    "print('Your mission is to find the treasure!')\n",
    "print()\n",
    "crossroad = input(\"You're at a cross road, Where do you want to go? left or right? \").lower()\n",
    "print()\n",
    "\n",
    "if crossroad == 'left':\n",
    "    lake = input('You are now at a lake and there is an island at the middle of the lake. What do you do?, swim or wait for a boat?\\n ').lower()\n",
    "    \n",
    "    if lake == 'swim':\n",
    "        print('There are crocodiles in the lake and you are dead!')\n",
    "        \n",
    "    elif lake == 'wait':\n",
    "        door = input('You get to the island, there are three doors blue, red and yellow, which one do you enter?\\n ').lower()\n",
    "        \n",
    "        if door == 'blue':\n",
    "            print('Oops, there is an automated arrow and it crushes your skull')\n",
    "        elif door == 'red':\n",
    "            print('There is a pit and you fall to death')\n",
    "        elif door == 'yellow':\n",
    "            print('Congratulations! the treasure is all yours.')\n",
    "        else:\n",
    "            print('Kindly input either blue, red or yellow.')\n",
    "        \n",
    "    else:\n",
    "        print('Input either swim or wait')\n",
    "        \n",
    "elif crossroad == 'right':\n",
    "    print('Oops you are dead!, you have entered snakeland.')\n",
    "    \n",
    "else:\n",
    "    print('Select either left or right')"
   ]
  },
  {
   "cell_type": "code",
   "execution_count": null,
   "id": "7d4bc19b",
   "metadata": {},
   "outputs": [],
   "source": []
  }
 ],
 "metadata": {
  "kernelspec": {
   "display_name": "Python 3 (ipykernel)",
   "language": "python",
   "name": "python3"
  },
  "language_info": {
   "codemirror_mode": {
    "name": "ipython",
    "version": 3
   },
   "file_extension": ".py",
   "mimetype": "text/x-python",
   "name": "python",
   "nbconvert_exporter": "python",
   "pygments_lexer": "ipython3",
   "version": "3.11.4"
  }
 },
 "nbformat": 4,
 "nbformat_minor": 5
}
