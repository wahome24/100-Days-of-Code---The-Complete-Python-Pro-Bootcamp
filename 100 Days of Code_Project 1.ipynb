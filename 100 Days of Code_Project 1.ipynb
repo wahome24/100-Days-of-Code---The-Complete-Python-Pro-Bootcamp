{
 "cells": [
  {
   "cell_type": "code",
   "execution_count": 9,
   "id": "ac24bc25",
   "metadata": {},
   "outputs": [],
   "source": [
    "#Function that gets a user name and return the number of characters in the name\n",
    "def namer():\n",
    "     name = input(\"Enter your name here: \").lower()\n",
    "     print()\n",
    "     print('Your name is {} characters long'.format(len(name)))"
   ]
  },
  {
   "cell_type": "code",
   "execution_count": 12,
   "id": "bc74ff2c",
   "metadata": {},
   "outputs": [
    {
     "name": "stdout",
     "output_type": "stream",
     "text": [
      "Enter your name here: ERASTUS WAHOME\n",
      "\n",
      "Your name is 14 characters long\n"
     ]
    }
   ],
   "source": [
    "namer()"
   ]
  },
  {
   "cell_type": "code",
   "execution_count": 14,
   "id": "76b243e6",
   "metadata": {},
   "outputs": [
    {
     "name": "stdout",
     "output_type": "stream",
     "text": [
      "Welcome to the Band Name Generator.\n",
      "What's the name of your favourite city?Nai\n",
      "Your pet's name?Bunny\n",
      "Your band name could be Nai Bunny \n"
     ]
    }
   ],
   "source": [
    "#100 Days of code\n",
    "#Band name generator - Project 1\n",
    "\n",
    "print(\"Welcome to the Band Name Generator.\")\n",
    "city = input(\"What's the name of your favourite city?\")\n",
    "pet = input(\"Your pet's name?\")\n",
    "print(\"Your band name could be {} {} \".format(city,pet))"
   ]
  },
  {
   "cell_type": "code",
   "execution_count": null,
   "id": "d1a905ef",
   "metadata": {},
   "outputs": [],
   "source": []
  }
 ],
 "metadata": {
  "kernelspec": {
   "display_name": "Python 3 (ipykernel)",
   "language": "python",
   "name": "python3"
  },
  "language_info": {
   "codemirror_mode": {
    "name": "ipython",
    "version": 3
   },
   "file_extension": ".py",
   "mimetype": "text/x-python",
   "name": "python",
   "nbconvert_exporter": "python",
   "pygments_lexer": "ipython3",
   "version": "3.11.4"
  }
 },
 "nbformat": 4,
 "nbformat_minor": 5
}
#Modifying Commit Name
