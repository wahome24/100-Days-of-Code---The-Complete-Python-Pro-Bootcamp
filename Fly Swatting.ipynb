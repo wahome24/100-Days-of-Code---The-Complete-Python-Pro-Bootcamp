{
 "cells": [
  {
   "cell_type": "code",
   "execution_count": 7,
   "id": "62894b43",
   "metadata": {},
   "outputs": [],
   "source": [
    "#The following code chunk contains errors that prevent it from executing properly. Find the “bugs” and correct them.\n",
    "\n",
    "def problem_one():\n",
    "\n",
    "capitals = \n",
    "“Maryland” == “Annapolis”\n",
    "“California”: Sacramento,\n",
    "“New York”: “Albany,\n",
    "“Utah'': “Salt Lake City”,\n",
    "“Alabama”: “Montgomery”\n",
    "}\n",
    "for state, city in capitals.items()\n",
    "print(f”The capital of {state) is {‘city’}.”\n"
   ]
  },
  {
   "cell_type": "code",
   "execution_count": 15,
   "id": "48e1b123",
   "metadata": {},
   "outputs": [
    {
     "name": "stdout",
     "output_type": "stream",
     "text": [
      "The capital of Maryland is Annapolis.\n",
      "The capital of California is Sacramento.\n",
      "The capital of New York is Albany.\n",
      "The capital of Utah is Salt Lake City.\n",
      "The capital of Alabama is Montgomery.\n"
     ]
    }
   ],
   "source": [
    "#Solution\n",
    "    \n",
    "def problem_one():\n",
    "    \n",
    "    capitals = {\n",
    "    \"Maryland\": \"Annapolis\",\n",
    "    \"California\": \"Sacramento\",\n",
    "    \"New York\": \"Albany\",\n",
    "    \"Utah\": \"Salt Lake City\",\n",
    "    \"Alabama\": \"Montgomery\"\n",
    "    }\n",
    "    \n",
    "\n",
    "    for state, city in capitals.items():\n",
    "       print(f\"The capital of {state} is {city}.\")\n",
    "\n",
    "problem_one()"
   ]
  },
  {
   "cell_type": "code",
   "execution_count": null,
   "id": "3edea575",
   "metadata": {},
   "outputs": [],
   "source": []
  },
  {
   "cell_type": "code",
   "execution_count": null,
   "id": "2268c031",
   "metadata": {},
   "outputs": [],
   "source": []
  }
 ],
 "metadata": {
  "kernelspec": {
   "display_name": "Python 3 (ipykernel)",
   "language": "python",
   "name": "python3"
  },
  "language_info": {
   "codemirror_mode": {
    "name": "ipython",
    "version": 3
   },
   "file_extension": ".py",
   "mimetype": "text/x-python",
   "name": "python",
   "nbconvert_exporter": "python",
   "pygments_lexer": "ipython3",
   "version": "3.11.4"
  }
 },
 "nbformat": 4,
 "nbformat_minor": 5
}
